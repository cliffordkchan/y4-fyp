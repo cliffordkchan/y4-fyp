{
 "cells": [
  {
   "cell_type": "markdown",
   "metadata": {},
   "source": [
    "# Week 8 - Neuromorphic computing - Exercise\n",
    "\n",
    "Note: this is a new version of the exercise, for the old version see [w8-neuromorphic-exercise-v1.ipynb](w8-neuromorphic-exercise-v1.ipynb).\n",
    "\n",
    "[![Open in Colab](https://colab.research.google.com/assets/colab-badge.svg)](https://colab.research.google.com/github/neuro4ml/exercises/blob/main/w8-neuromorphic/w8-neuromorphic-exercise.ipynb)\n",
    "\n",
    "## 🧠 Introduction \n",
    "\n",
    "Neuromorphic engineering is a field that aims to design and build artificial neural systems that mimic the architecture and principles of biological neural networks. Unlike traditional von Neumann computing architectures, neuromorphic chips:\n",
    "\n",
    "1. 🔄 Process information in a parallel, event-driven manner\n",
    "2. 💾 Integrate memory and computation\n",
    "3. ⚡ Operate with extremely low power consumption\n",
    "\n",
    "### 🤔 Why trade off power and accuracy?\n",
    "\n",
    "Traditional deep learning models running on GPUs or CPUs consume significant power (often hundreds of watts). In contrast, the human brain processes complex information while consuming only ~20 watts. Neuromorphic chips aim to bridge this efficiency gap by:\n",
    "\n",
    "- 📊 Using spike-based computation\n",
    "- 🎯 Implementing local learning rules\n",
    "- ⚡ Exploiting sparse, event-driven processing\n",
    "\n",
    "However, these benefits often come with reduced accuracy compared to traditional deep learning approaches. Understanding and optimizing this trade-off is crucial for deploying neural networks in power-constrained environments like mobile devices or IoT sensors.\n",
    "\n",
    "## 📝 Exercise overview\n",
    "\n",
    "In this exercise, you will:\n",
    "1. 🔧 Implement a simple neuromorphic chip simulator\n",
    "2. 🏃‍♂️ Train SNNs with different architectures\n",
    "3. 📊 Analyze the power-accuracy trade-off\n",
    "4. 🔍 Explore how different parameters affect this trade-off\n",
    "\n",
    "**This will also serve as a solid introduction on how to effectively train SNNs using modern packages such as SNNTorch!**\n",
    "\n",
    "## 💻 Setup\n",
    "\n",
    "Some of the code for this exercise is already provided, but you will need to implement some parts: \n",
    "\n",
    "### SNNModel (models.py)\n",
    "The `SNNModel` class implements a 2-layer Leaky Integrate-and-Fire (LIF) network using SNNTorch. The network architecture consists of:\n",
    "- Input layer → Hidden layer (with LIF neurons) → Output layer (with LIF neurons). (You will be able to play with other network architectures)\n",
    "- Each LIF neuron has a decay rate (beta) that controls how quickly the membrane potential decays. (You will be able to play with other neuron models provided by SNNTorch)\n",
    "- The network processes input data over multiple timesteps, producing spikes at each layer\n",
    "\n",
    "### NeuromorphicChip (chip.py)\n",
    "The `NeuromorphicChip` class simulates a neuromorphic hardware platform with the following constraints:\n",
    "- Maximum number of neurons: 1024\n",
    "- Maximum number of synapses: 64 * 1024\n",
    "- Memory per neuron: 32 bytes\n",
    "- Memory per synapse: 4 bytes\n",
    "- Energy consumption:\n",
    "  - 1e-1 nJ per neuron update\n",
    "  - 5e-4 nJ per synapse event\n",
    "  \n",
    "This backend hardware is very simple and does not include many features of neuromorphic hardware, and serves only as an introduction to thinking about efficient network design."
   ]
  },
  {
   "cell_type": "markdown",
   "metadata": {},
   "source": [
    "## Imports and data loading"
   ]
  },
  {
   "cell_type": "code",
   "execution_count": 1,
   "metadata": {},
   "outputs": [],
   "source": [
    "# try:\n",
    "#     import google.colab\n",
    "\n",
    "#     IN_COLAB = True\n",
    "# except:\n",
    "#     IN_COLAB = False\n",
    "\n",
    "# if IN_COLAB:\n",
    "#     !pip install snntorch\n",
    "#     !git clone https://github.com/neuro4ml/exercises.git\n",
    "#     !cp exercises/w8-neuromorphic/*.py .\n",
    "#     !cp exercises/w8-neuromorphic/dataset .\n",
    "#     !cp exercises/w8-neuromorphic/dataset_labels .\n",
    "\n",
    "# # If you are using a local machine, please install the dependencies yourself."
   ]
  },
  {
   "cell_type": "code",
   "execution_count": 8,
   "metadata": {},
   "outputs": [
    {
     "name": "stdout",
     "output_type": "stream",
     "text": [
      "Looking in indexes: https://download.pytorch.org/whl/cu118\n",
      "Requirement already satisfied: torch in c:\\users\\user\\anaconda3\\lib\\site-packages (2.5.1+cu118)\n",
      "Requirement already satisfied: torchvision in c:\\users\\user\\anaconda3\\lib\\site-packages (0.20.1+cu118)\n",
      "Requirement already satisfied: torchaudio in c:\\users\\user\\anaconda3\\lib\\site-packages (2.5.1+cu118)\n",
      "Requirement already satisfied: filelock in c:\\users\\user\\anaconda3\\lib\\site-packages (from torch) (3.13.1)\n",
      "Requirement already satisfied: typing-extensions>=4.8.0 in c:\\users\\user\\anaconda3\\lib\\site-packages (from torch) (4.11.0)\n",
      "Requirement already satisfied: networkx in c:\\users\\user\\anaconda3\\lib\\site-packages (from torch) (3.2.1)\n",
      "Requirement already satisfied: jinja2 in c:\\users\\user\\anaconda3\\lib\\site-packages (from torch) (3.1.4)\n",
      "Requirement already satisfied: fsspec in c:\\users\\user\\anaconda3\\lib\\site-packages (from torch) (2024.3.1)\n",
      "Requirement already satisfied: setuptools in c:\\users\\user\\anaconda3\\lib\\site-packages (from torch) (69.5.1)\n",
      "Requirement already satisfied: sympy==1.13.1 in c:\\users\\user\\anaconda3\\lib\\site-packages (from torch) (1.13.1)\n",
      "Requirement already satisfied: mpmath<1.4,>=1.1.0 in c:\\users\\user\\anaconda3\\lib\\site-packages (from sympy==1.13.1->torch) (1.3.0)\n",
      "Requirement already satisfied: numpy in c:\\users\\user\\anaconda3\\lib\\site-packages (from torchvision) (1.26.4)\n",
      "Requirement already satisfied: pillow!=8.3.*,>=5.3.0 in c:\\users\\user\\anaconda3\\lib\\site-packages (from torchvision) (10.3.0)\n",
      "Requirement already satisfied: MarkupSafe>=2.0 in c:\\users\\user\\anaconda3\\lib\\site-packages (from jinja2->torch) (2.1.3)\n",
      "Requirement already satisfied: snntorch in c:\\users\\user\\anaconda3\\lib\\site-packages (0.9.1)\n",
      "Requirement already satisfied: torch>=1.1.0 in c:\\users\\user\\anaconda3\\lib\\site-packages (from snntorch) (2.5.1+cu118)\n",
      "Requirement already satisfied: pandas in c:\\users\\user\\anaconda3\\lib\\site-packages (from snntorch) (2.2.2)\n",
      "Requirement already satisfied: matplotlib in c:\\users\\user\\anaconda3\\lib\\site-packages (from snntorch) (3.8.4)\n",
      "Requirement already satisfied: numpy>=1.17 in c:\\users\\user\\anaconda3\\lib\\site-packages (from snntorch) (1.26.4)\n",
      "Requirement already satisfied: nir in c:\\users\\user\\anaconda3\\lib\\site-packages (from snntorch) (1.0.4)\n",
      "Requirement already satisfied: nirtorch in c:\\users\\user\\anaconda3\\lib\\site-packages (from snntorch) (1.0)\n",
      "Requirement already satisfied: filelock in c:\\users\\user\\anaconda3\\lib\\site-packages (from torch>=1.1.0->snntorch) (3.13.1)\n",
      "Requirement already satisfied: typing-extensions>=4.8.0 in c:\\users\\user\\anaconda3\\lib\\site-packages (from torch>=1.1.0->snntorch) (4.11.0)\n",
      "Requirement already satisfied: networkx in c:\\users\\user\\anaconda3\\lib\\site-packages (from torch>=1.1.0->snntorch) (3.2.1)\n",
      "Requirement already satisfied: jinja2 in c:\\users\\user\\anaconda3\\lib\\site-packages (from torch>=1.1.0->snntorch) (3.1.4)\n",
      "Requirement already satisfied: fsspec in c:\\users\\user\\anaconda3\\lib\\site-packages (from torch>=1.1.0->snntorch) (2024.3.1)\n",
      "Requirement already satisfied: setuptools in c:\\users\\user\\anaconda3\\lib\\site-packages (from torch>=1.1.0->snntorch) (69.5.1)\n",
      "Requirement already satisfied: sympy==1.13.1 in c:\\users\\user\\anaconda3\\lib\\site-packages (from torch>=1.1.0->snntorch) (1.13.1)\n",
      "Requirement already satisfied: mpmath<1.4,>=1.1.0 in c:\\users\\user\\anaconda3\\lib\\site-packages (from sympy==1.13.1->torch>=1.1.0->snntorch) (1.3.0)\n",
      "Requirement already satisfied: contourpy>=1.0.1 in c:\\users\\user\\anaconda3\\lib\\site-packages (from matplotlib->snntorch) (1.2.0)\n",
      "Requirement already satisfied: cycler>=0.10 in c:\\users\\user\\anaconda3\\lib\\site-packages (from matplotlib->snntorch) (0.11.0)\n",
      "Requirement already satisfied: fonttools>=4.22.0 in c:\\users\\user\\anaconda3\\lib\\site-packages (from matplotlib->snntorch) (4.51.0)\n",
      "Requirement already satisfied: kiwisolver>=1.3.1 in c:\\users\\user\\anaconda3\\lib\\site-packages (from matplotlib->snntorch) (1.4.4)\n",
      "Requirement already satisfied: packaging>=20.0 in c:\\users\\user\\anaconda3\\lib\\site-packages (from matplotlib->snntorch) (23.2)\n",
      "Requirement already satisfied: pillow>=8 in c:\\users\\user\\anaconda3\\lib\\site-packages (from matplotlib->snntorch) (10.3.0)\n",
      "Requirement already satisfied: pyparsing>=2.3.1 in c:\\users\\user\\anaconda3\\lib\\site-packages (from matplotlib->snntorch) (3.0.9)\n",
      "Requirement already satisfied: python-dateutil>=2.7 in c:\\users\\user\\anaconda3\\lib\\site-packages (from matplotlib->snntorch) (2.9.0.post0)\n",
      "Requirement already satisfied: h5py in c:\\users\\user\\anaconda3\\lib\\site-packages (from nir->snntorch) (3.11.0)\n",
      "Requirement already satisfied: pytz>=2020.1 in c:\\users\\user\\anaconda3\\lib\\site-packages (from pandas->snntorch) (2024.1)\n",
      "Requirement already satisfied: tzdata>=2022.7 in c:\\users\\user\\anaconda3\\lib\\site-packages (from pandas->snntorch) (2023.3)\n",
      "Requirement already satisfied: six>=1.5 in c:\\users\\user\\anaconda3\\lib\\site-packages (from python-dateutil>=2.7->matplotlib->snntorch) (1.16.0)\n",
      "Requirement already satisfied: MarkupSafe>=2.0 in c:\\users\\user\\anaconda3\\lib\\site-packages (from jinja2->torch>=1.1.0->snntorch) (2.1.3)\n"
     ]
    }
   ],
   "source": [
    "# !pip3 install torch torchvision torchaudio --index-url https://download.pytorch.org/whl/cu118\n",
    "# !pip3 install snntorch"
   ]
  },
  {
   "cell_type": "code",
   "execution_count": 3,
   "metadata": {},
   "outputs": [],
   "source": [
    "# For automatic reloading of external modules\n",
    "%load_ext autoreload\n",
    "%autoreload 2"
   ]
  },
  {
   "cell_type": "code",
   "execution_count": 4,
   "metadata": {},
   "outputs": [
    {
     "name": "stderr",
     "output_type": "stream",
     "text": [
      "c:\\Users\\user\\repos\\neuro4ml-exercises\\w8-neuromorphic\\chip.py:32: SyntaxWarning: invalid escape sequence '\\ '\n",
      "  \"\"\"\n"
     ]
    }
   ],
   "source": [
    "import torch\n",
    "import seaborn as sns\n",
    "import matplotlib.pyplot as plt\n",
    "\n",
    "from chip import NeuromorphicChip\n",
    "from models import SNNModel"
   ]
  },
  {
   "cell_type": "code",
   "execution_count": 5,
   "metadata": {},
   "outputs": [
    {
     "name": "stdout",
     "output_type": "stream",
     "text": [
      "cuda:0\n"
     ]
    }
   ],
   "source": [
    "device = torch.device(\"cuda:0\" if torch.cuda.is_available() else \"cpu\")\n",
    "print(device)"
   ]
  },
  {
   "cell_type": "markdown",
   "metadata": {},
   "source": [
    "## 🛠️ Exercise 1.1: Mapping Implementation\n",
    "\n",
    "To complete this first question you need to implement the functions necessary to map your network on the chip.\n",
    "\n",
    "- 📍 Go to [models.py](models.py) and implement the `n_neurons` and `n_synapses` properties.\n",
    "- 📍 Go to [chip.py](chip.py) and implement the `calculate_memory_usage`, `map` and `run` methods.\n",
    "- ▶️ Run the following cell to check your implementation\n",
    "\n",
    "This is what you should see:\n",
    "\n",
    "    Simulation Results:\n",
    "    Energy consumption: 1.29 µJ\n",
    "    Memory usage: 57.34 KB\n",
    "    Total neuron updates: 11000\n",
    "    Total synapse events: 389740\n",
    "    Average spike rate: 0.205\n",
    "    Total spikes: 3070.0"
   ]
  },
  {
   "cell_type": "code",
   "execution_count": 6,
   "metadata": {},
   "outputs": [],
   "source": [
    "chip = NeuromorphicChip()\n",
    "\n",
    "dims = (128, 100, 10)\n",
    "n_timesteps = 100\n",
    "seed = 42\n",
    "snn = SNNModel(n_in=dims[0], n_hidden=dims[1], n_out=dims[-1], beta=0.95, seed=seed)"
   ]
  },
  {
   "cell_type": "code",
   "execution_count": 13,
   "metadata": {},
   "outputs": [
    {
     "name": "stdout",
     "output_type": "stream",
     "text": [
      "\n",
      "Simulation Results:\n",
      "Energy consumption: 1.29 µJ\n",
      "Memory usage: 57.34 KB\n",
      "Total neuron updates: 11000\n",
      "Total synapse events: 378240.0\n",
      "Average spike rate: 0.279\n",
      "Total spikes: 3070.0\n"
     ]
    },
    {
     "name": "stderr",
     "output_type": "stream",
     "text": [
      "c:\\Users\\user\\repos\\neuro4ml-exercises\\w8-neuromorphic\\chip.py:32: SyntaxWarning: invalid escape sequence '\\ '\n",
      "  \"\"\"\n"
     ]
    }
   ],
   "source": [
    "# Generate random input (seed is fixed to 42 for reproducibility)\n",
    "torch.manual_seed(seed)\n",
    "input_data = torch.randn(n_timesteps, dims[0]) * 10  # 100 timesteps\n",
    "\n",
    "# Map the network on the chip\n",
    "chip.map(snn)\n",
    "# Run the network\n",
    "output, results = chip.run(input_data=input_data)\n",
    "\n",
    "print(\"\\nSimulation Results:\")\n",
    "print(f\"Energy consumption: {results['total_energy_nJ']/1000:.2f} µJ\")\n",
    "print(f\"Memory usage: {results['memory_usage_bytes']/1024:.2f} KB\")\n",
    "print(f\"Total neuron updates: {results['neuron_updates']}\")\n",
    "print(f\"Total synapse events: {results['synapse_events']}\")\n",
    "print(f\"Average spike rate: {results['spike_rate']:.3f}\")\n",
    "print(f\"Total spikes: {results['total_spikes']}\")"
   ]
  },
  {
   "cell_type": "markdown",
   "metadata": {},
   "source": [
    "## 🚫 Exercise 1.2: Failed Mappings\n",
    "\n",
    "Now let's explore what happens when we try to map networks that exceed the chip's constraints:\n",
    "\n",
    "### 🔬 Experiments:\n",
    "1. 🧠 First, we'll try mapping a network with too many neurons\n",
    "2. 🔗 Then, we'll attempt to map one with too many synapses \n",
    "3. 💡 Finally, we'll see how sparse connectivity can help fit larger networks\n",
    "\n",
    "Let's run these experiments and observe the error messages we get! Each case will demonstrate different limitations of neuromorphic hardware:\n",
    "The first two cases should return a `MemoryError` if your code is correct. The third case should run without errors.\n"
   ]
  },
  {
   "cell_type": "code",
   "execution_count": 14,
   "metadata": {},
   "outputs": [
    {
     "name": "stdout",
     "output_type": "stream",
     "text": [
      "Exceeded max memory\n"
     ]
    }
   ],
   "source": [
    "chip = NeuromorphicChip()\n",
    "\n",
    "# Case 1 : Too many neurons\n",
    "dims = (128, 1024, 10)\n",
    "seed = 42\n",
    "snn = SNNModel(n_in=dims[0], n_hidden=dims[1], n_out=dims[-1], beta=0.95, seed=seed)\n",
    "# Map the network on the chip\n",
    "try:\n",
    "    chip.map(snn)\n",
    "except MemoryError as e:\n",
    "    print(e)"
   ]
  },
  {
   "cell_type": "code",
   "execution_count": 15,
   "metadata": {},
   "outputs": [
    {
     "name": "stdout",
     "output_type": "stream",
     "text": [
      "Exceeded max memory\n"
     ]
    }
   ],
   "source": [
    "chip = NeuromorphicChip()\n",
    "\n",
    "# Case 2 : Too many synapses\n",
    "dims = (128, 512, 10)\n",
    "seed = 42\n",
    "snn = SNNModel(n_in=dims[0], n_hidden=dims[1], n_out=dims[-1], beta=0.95, seed=seed)\n",
    "# Map the network on the chip\n",
    "try:\n",
    "    chip.map(snn)\n",
    "except MemoryError as e:\n",
    "    print(e)"
   ]
  },
  {
   "cell_type": "code",
   "execution_count": 1,
   "metadata": {},
   "outputs": [
    {
     "ename": "NameError",
     "evalue": "name 'SNNModel' is not defined",
     "output_type": "error",
     "traceback": [
      "\u001b[1;31m---------------------------------------------------------------------------\u001b[0m",
      "\u001b[1;31mNameError\u001b[0m                                 Traceback (most recent call last)",
      "Cell \u001b[1;32mIn[1], line 4\u001b[0m\n\u001b[0;32m      2\u001b[0m dims \u001b[38;5;241m=\u001b[39m (\u001b[38;5;241m128\u001b[39m, \u001b[38;5;241m512\u001b[39m, \u001b[38;5;241m10\u001b[39m)\n\u001b[0;32m      3\u001b[0m seed \u001b[38;5;241m=\u001b[39m \u001b[38;5;241m42\u001b[39m\n\u001b[1;32m----> 4\u001b[0m snn \u001b[38;5;241m=\u001b[39m SNNModel(n_in\u001b[38;5;241m=\u001b[39mdims[\u001b[38;5;241m0\u001b[39m], n_hidden\u001b[38;5;241m=\u001b[39mdims[\u001b[38;5;241m1\u001b[39m], n_out\u001b[38;5;241m=\u001b[39mdims[\u001b[38;5;241m-\u001b[39m\u001b[38;5;241m1\u001b[39m], beta\u001b[38;5;241m=\u001b[39m\u001b[38;5;241m0.95\u001b[39m, seed\u001b[38;5;241m=\u001b[39mseed)\n\u001b[0;32m      5\u001b[0m \u001b[38;5;28;01mfor\u001b[39;00m l \u001b[38;5;129;01min\u001b[39;00m snn\u001b[38;5;241m.\u001b[39mlayers:\n\u001b[0;32m      6\u001b[0m     \u001b[38;5;28;01mif\u001b[39;00m \u001b[38;5;28mhasattr\u001b[39m(l, \u001b[38;5;124m\"\u001b[39m\u001b[38;5;124mweight\u001b[39m\u001b[38;5;124m\"\u001b[39m):\n",
      "\u001b[1;31mNameError\u001b[0m: name 'SNNModel' is not defined"
     ]
    }
   ],
   "source": [
    "# Case 3 : Sparse connectivity\n",
    "dims = (128, 512, 10)\n",
    "seed = 42\n",
    "snn = SNNModel(n_in=dims[0], n_hidden=dims[1], n_out=dims[-1], beta=0.95, seed=seed)\n",
    "for l in snn.layers:\n",
    "    if hasattr(l, \"weight\"):\n",
    "        l.weight.data = (\n",
    "            torch.rand(l.weight.data.shape) < 0.5\n",
    "        ).float()  # 50% of the weights are non-zero\n",
    "\n",
    "# Map the network on the chip\n",
    "try:\n",
    "    chip.map(snn)\n",
    "    print(\n",
    "        f\"Mapped! Memory usage: {chip.calculate_memory_usage(snn)/1024:.2f} KB, Number of neurons: {snn.n_neurons}, Number of synapses: {snn.n_synapses}\"\n",
    "    )\n",
    "except MemoryError as e:\n",
    "    print(e)"
   ]
  },
  {
   "cell_type": "markdown",
   "metadata": {},
   "source": [
    "## 🎯 Exercise 2: Training\n",
    "\n",
    "In this exercise you will train a SNN on the [Randman dataset](https://github.com/fzenke/randman).\n",
    "\n",
    "### 📊 Background: The Randman Dataset\n",
    "\n",
    "The Randman dataset is a synthetic dataset specifically designed for training Spiking Neural Networks (SNNs). Here's what you need to know:\n",
    "\n",
    "1. **Dataset Structure**\n",
    "   - Generates labeled spike trains for classification\n",
    "   - Each sample consists of temporal spike patterns\n",
    "   - Data is organized into multiple classes (10 classes)\n",
    "   - Spike times are stored in `dataset` file\n",
    "   - Class labels are stored in `dataset_labels` file\n",
    "\n",
    "2. **Data Format**\n",
    "   - Input: Spike trains encoded as binary tensors (time x neurons)\n",
    "   - Each neuron can spike at different time steps\n",
    "   - Data is converted to one-hot encoding across time steps\n",
    "   - Shape: (batch_size, timesteps, input_neurons)\n",
    "\n",
    "3. **Classification Task**\n",
    "   - Goal: Classify input spike patterns into correct classes\n",
    "   - Output layer produces spike trains\n",
    "   - Classification is done using rate coding (for now !): the output neuron that spikes the most indicates the predicted class\n",
    "\n",
    "4. **Data Loading**\n",
    "   All necessary code for loading and preprocessing the data is provided:\n",
    "   - Data loading from files\n",
    "   - Conversion to one-hot encoding\n",
    "   - Train/test splitting\n",
    "   - DataLoader creation with batching\n",
    "\n",
    "### 🎓 2.1 Training\n",
    "\n",
    "- 📝 Go to [training.py](training.py) and complete the `SNNTrainer` class, in particular the `calculate_accuracy` method\n",
    "- ▶️ Run the following cell to train your network\n",
    "- 📊 Take a look at the training and testing metrics, especially the accuracy and energy consumption\n",
    "- 🔄 Start experimenting with different architectures and parameters to see how they affect the accuracy and energy consumption"
   ]
  },
  {
   "cell_type": "code",
   "execution_count": 18,
   "metadata": {},
   "outputs": [],
   "source": [
    "from training import get_dataloaders, SNNTrainer"
   ]
  },
  {
   "cell_type": "code",
   "execution_count": 19,
   "metadata": {},
   "outputs": [],
   "source": [
    "# Create dataloaders\n",
    "train_loader, test_loader, dataset = get_dataloaders(\n",
    "    batch_size=64,\n",
    ")"
   ]
  },
  {
   "cell_type": "code",
   "execution_count": 20,
   "metadata": {},
   "outputs": [
    {
     "name": "stdout",
     "output_type": "stream",
     "text": [
      "torch.Size([100, 64, 128]) torch.Size([64])\n"
     ]
    }
   ],
   "source": [
    "# Take a look at the data\n",
    "data, labels = next(iter(train_loader))\n",
    "print(\n",
    "    data.shape, labels.shape\n",
    ")  # batch_size x timesteps x n_in. 1st and 2nd dims are swapped when passed to the model"
   ]
  },
  {
   "cell_type": "code",
   "execution_count": 21,
   "metadata": {},
   "outputs": [],
   "source": [
    "snn_config = {\n",
    "    \"n_hidden\": 128,\n",
    "    \"beta\": 0.95,\n",
    "    \"seed\": 42,\n",
    "}"
   ]
  },
  {
   "cell_type": "code",
   "execution_count": 22,
   "metadata": {},
   "outputs": [],
   "source": [
    "# Initialize model\n",
    "snn = SNNModel(\n",
    "    n_hidden=snn_config[\"n_hidden\"],\n",
    "    beta=snn_config[\"beta\"],\n",
    "    seed=snn_config[\"seed\"],\n",
    ")"
   ]
  },
  {
   "cell_type": "code",
   "execution_count": 23,
   "metadata": {},
   "outputs": [
    {
     "data": {
      "application/vnd.jupyter.widget-view+json": {
       "model_id": "edacc8e336ae4669af93bc761c59c2a0",
       "version_major": 2,
       "version_minor": 0
      },
      "text/plain": [
       "Training:   0%|          | 0/10 [00:00<?, ?it/s]"
      ]
     },
     "metadata": {},
     "output_type": "display_data"
    },
    {
     "ename": "NotImplementedError",
     "evalue": "Accuracy not implemented",
     "output_type": "error",
     "traceback": [
      "\u001b[1;31m---------------------------------------------------------------------------\u001b[0m",
      "\u001b[1;31mNotImplementedError\u001b[0m                       Traceback (most recent call last)",
      "Cell \u001b[1;32mIn[23], line 4\u001b[0m\n\u001b[0;32m      2\u001b[0m trainer \u001b[38;5;241m=\u001b[39m SNNTrainer(snn, learning_rate\u001b[38;5;241m=\u001b[39m\u001b[38;5;241m1e-3\u001b[39m, lr_gamma\u001b[38;5;241m=\u001b[39m\u001b[38;5;241m0.9\u001b[39m, config\u001b[38;5;241m=\u001b[39msnn_config)\n\u001b[0;32m      3\u001b[0m \u001b[38;5;66;03m# Train the model\u001b[39;00m\n\u001b[1;32m----> 4\u001b[0m trainer\u001b[38;5;241m.\u001b[39mtrain(train_loader, test_loader, n_epochs\u001b[38;5;241m=\u001b[39m\u001b[38;5;241m10\u001b[39m)\n",
      "File \u001b[1;32mc:\\Users\\user\\repos\\neuro4ml-exercises\\w8-neuromorphic\\training.py:226\u001b[0m, in \u001b[0;36mSNNTrainer.train\u001b[1;34m(self, train_loader, test_loader, n_epochs)\u001b[0m\n\u001b[0;32m    224\u001b[0m pbar \u001b[38;5;241m=\u001b[39m tqdm(\u001b[38;5;28mrange\u001b[39m(n_epochs), desc\u001b[38;5;241m=\u001b[39m\u001b[38;5;124m\"\u001b[39m\u001b[38;5;124mTraining: \u001b[39m\u001b[38;5;124m\"\u001b[39m, leave\u001b[38;5;241m=\u001b[39m\u001b[38;5;28;01mFalse\u001b[39;00m)\n\u001b[0;32m    225\u001b[0m \u001b[38;5;28;01mfor\u001b[39;00m epoch \u001b[38;5;129;01min\u001b[39;00m pbar:\n\u001b[1;32m--> 226\u001b[0m     \u001b[38;5;28mself\u001b[39m\u001b[38;5;241m.\u001b[39mtrain_epoch(train_loader, epoch\u001b[38;5;241m=\u001b[39mepoch, n_epochs\u001b[38;5;241m=\u001b[39mn_epochs, pbar\u001b[38;5;241m=\u001b[39mpbar)\n\u001b[0;32m    227\u001b[0m     metrics, pd_results \u001b[38;5;241m=\u001b[39m \u001b[38;5;28mself\u001b[39m\u001b[38;5;241m.\u001b[39mevaluate(test_loader, epoch\u001b[38;5;241m=\u001b[39mepoch, pbar\u001b[38;5;241m=\u001b[39mpbar)\n\u001b[0;32m    228\u001b[0m     \u001b[38;5;28mself\u001b[39m\u001b[38;5;241m.\u001b[39mchip_results\u001b[38;5;241m.\u001b[39mappend(pd_results)\n",
      "File \u001b[1;32mc:\\Users\\user\\repos\\neuro4ml-exercises\\w8-neuromorphic\\training.py:135\u001b[0m, in \u001b[0;36mSNNTrainer.train_epoch\u001b[1;34m(self, train_loader, epoch, n_epochs, pbar)\u001b[0m\n\u001b[0;32m    132\u001b[0m \u001b[38;5;28mself\u001b[39m\u001b[38;5;241m.\u001b[39moptimizer\u001b[38;5;241m.\u001b[39mstep()\n\u001b[0;32m    134\u001b[0m \u001b[38;5;66;03m# Calculate metrics\u001b[39;00m\n\u001b[1;32m--> 135\u001b[0m acc, loss_val \u001b[38;5;241m=\u001b[39m \u001b[38;5;28mself\u001b[39m\u001b[38;5;241m.\u001b[39mcalculate_accuracy(spikes, target)\n\u001b[0;32m    136\u001b[0m firing_rate \u001b[38;5;241m=\u001b[39m spikes\u001b[38;5;241m.\u001b[39mmean()\u001b[38;5;241m.\u001b[39mitem()\n\u001b[0;32m    138\u001b[0m desc \u001b[38;5;241m=\u001b[39m \u001b[38;5;28mstr\u001b[39m(\n\u001b[0;32m    139\u001b[0m     \u001b[38;5;124mf\u001b[39m\u001b[38;5;124m\"\u001b[39m\u001b[38;5;124mEpoch \u001b[39m\u001b[38;5;132;01m{\u001b[39;00mepoch\u001b[38;5;132;01m}\u001b[39;00m\u001b[38;5;124m/\u001b[39m\u001b[38;5;132;01m{\u001b[39;00mn_epochs\u001b[38;5;132;01m}\u001b[39;00m\u001b[38;5;124m - Batch \u001b[39m\u001b[38;5;132;01m{\u001b[39;00mbatch_idx\u001b[38;5;132;01m}\u001b[39;00m\u001b[38;5;124m/\u001b[39m\u001b[38;5;132;01m{\u001b[39;00m\u001b[38;5;28mlen\u001b[39m(train_loader)\u001b[38;5;132;01m}\u001b[39;00m\u001b[38;5;124m: loss: \u001b[39m\u001b[38;5;132;01m{\u001b[39;00mloss_val\u001b[38;5;132;01m:\u001b[39;00m\u001b[38;5;124m.3f\u001b[39m\u001b[38;5;132;01m}\u001b[39;00m\u001b[38;5;124m, \u001b[39m\u001b[38;5;124m\"\u001b[39m\n\u001b[0;32m    140\u001b[0m     \u001b[38;5;241m+\u001b[39m \u001b[38;5;124mf\u001b[39m\u001b[38;5;124m\"\u001b[39m\u001b[38;5;124mFiring Rate: \u001b[39m\u001b[38;5;132;01m{\u001b[39;00mfiring_rate\u001b[38;5;132;01m:\u001b[39;00m\u001b[38;5;124m.3f\u001b[39m\u001b[38;5;132;01m}\u001b[39;00m\u001b[38;5;124m, Acc: \u001b[39m\u001b[38;5;132;01m{\u001b[39;00macc\u001b[38;5;132;01m:\u001b[39;00m\u001b[38;5;124m.3f\u001b[39m\u001b[38;5;132;01m}\u001b[39;00m\u001b[38;5;124m\"\u001b[39m\n\u001b[0;32m    141\u001b[0m )\n",
      "File \u001b[1;32mc:\\Users\\user\\repos\\neuro4ml-exercises\\w8-neuromorphic\\training.py:94\u001b[0m, in \u001b[0;36mSNNTrainer.calculate_accuracy\u001b[1;34m(self, spikes, target)\u001b[0m\n\u001b[0;32m     91\u001b[0m loss \u001b[38;5;241m=\u001b[39m \u001b[38;5;28mself\u001b[39m\u001b[38;5;241m.\u001b[39mloss_fn(spikes, target)\u001b[38;5;241m.\u001b[39mmean()\n\u001b[0;32m     92\u001b[0m acc \u001b[38;5;241m=\u001b[39m \u001b[38;5;28;01mNone\u001b[39;00m\n\u001b[1;32m---> 94\u001b[0m \u001b[38;5;28;01mraise\u001b[39;00m \u001b[38;5;167;01mNotImplementedError\u001b[39;00m(\u001b[38;5;124m\"\u001b[39m\u001b[38;5;124mAccuracy not implemented\u001b[39m\u001b[38;5;124m\"\u001b[39m)\n\u001b[0;32m     96\u001b[0m \u001b[38;5;28;01mreturn\u001b[39;00m acc, loss\u001b[38;5;241m.\u001b[39mitem()\n",
      "\u001b[1;31mNotImplementedError\u001b[0m: Accuracy not implemented"
     ]
    }
   ],
   "source": [
    "# Initialize trainer\n",
    "trainer = SNNTrainer(snn, learning_rate=1e-3, lr_gamma=0.9, config=snn_config)\n",
    "# Train the model\n",
    "trainer.train(train_loader, test_loader, n_epochs=10)"
   ]
  },
  {
   "cell_type": "markdown",
   "metadata": {},
   "source": [
    "### 📈 2.2 Plot the results\n",
    "- 📊 We can plot the accuracy and energy consumption as a function of the epoch\n",
    "- 📈 We see that the accuracy is improving but the energy consumption is also increasing\n",
    "- ⚖️ This is a trade-off that we need to be aware of when training SNNs"
   ]
  },
  {
   "cell_type": "code",
   "execution_count": null,
   "metadata": {},
   "outputs": [],
   "source": [
    "results = trainer.pd_results.groupby(\"epoch\", as_index=False).mean()\n",
    "fig, ax = plt.subplots()\n",
    "sns.lineplot(\n",
    "    data=results, x=\"epoch\", y=\"accuracy\", ax=ax, label=\"Accuracy\", legend=False\n",
    ")\n",
    "ax2 = ax.twinx()\n",
    "sns.lineplot(\n",
    "    data=results,\n",
    "    x=\"epoch\",\n",
    "    y=\"total_energy_nJ\",\n",
    "    ax=ax2,\n",
    "    color=\"orange\",\n",
    "    label=\"Energy\",\n",
    "    legend=False,\n",
    ")\n",
    "ax.figure.legend()\n",
    "ax.set_title(\n",
    "    f\"Accuracy and Energy, Final Trade-off Score: {trainer.pareto_tradeoff:.2f}\"\n",
    ")\n",
    "plt.show()"
   ]
  },
  {
   "cell_type": "markdown",
   "metadata": {},
   "source": [
    "## 🚀 Exercise 3: Optimizing the trade-off\n",
    "\n",
    "Now, you will explore how different parameters affect the accuracy and energy consumption of the SNN. This part is open-ended, here are some ideas:\n",
    "\n",
    "-  Experiment with network architectures (number of layers, number of neurons, etc.)\n",
    "-  Regularize spiking activity \n",
    "-  Implement a bi-exponential neuron model, using SnnTorch (snn.neurons.Synaptic)\n",
    "- Implement a temporal loss (time-to-first-spike), using SnnTorch. Be careful to change the `calculate_accuracy` method in `training.py`\n",
    "-  Implement weight masks to reduce the number of synapses\n",
    "-  Use SnnTorch to make the time-constants heterogeneous and/or learnable, and maybe use less neurons\n",
    "\n",
    "Ideally, after experimenting with these parameters, you should start to see a rough trade-off between accuracy and energy! Can we see some kind of Pareto front appearing? \n",
    "\n",
    "### 🏆 *The group with the best trade-off score will win the competition!*"
   ]
  }
 ],
 "metadata": {
  "kernelspec": {
   "display_name": "base",
   "language": "python",
   "name": "python3"
  },
  "language_info": {
   "codemirror_mode": {
    "name": "ipython",
    "version": 3
   },
   "file_extension": ".py",
   "mimetype": "text/x-python",
   "name": "python",
   "nbconvert_exporter": "python",
   "pygments_lexer": "ipython3",
   "version": "3.12.4"
  }
 },
 "nbformat": 4,
 "nbformat_minor": 2
}
